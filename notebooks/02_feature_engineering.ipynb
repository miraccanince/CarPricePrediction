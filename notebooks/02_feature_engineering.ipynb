{
 "cells": [
  {
   "cell_type": "markdown",
   "id": "f3f7e13f",
   "metadata": {},
   "source": [
    "# Feature Engineering"
   ]
  },
  {
   "cell_type": "code",
   "execution_count": 4,
   "id": "12a0463c",
   "metadata": {},
   "outputs": [],
   "source": [
    "import pandas as pd\n",
    "import numpy as np\n",
    "import matplotlib.pyplot as plt\n",
    "import seaborn as sns\n",
    "from sklearn.preprocessing import StandardScaler, LabelEncoder\n",
    "\n",
    "# Set style\n",
    "sns.set_style('whitegrid')\n",
    "plt.rcParams['figure.figsize'] = (10, 6)"
   ]
  },
  {
   "cell_type": "code",
   "execution_count": 6,
   "id": "db76e637",
   "metadata": {},
   "outputs": [
    {
     "name": "stdout",
     "output_type": "stream",
     "text": [
      "(205, 13)\n"
     ]
    },
    {
     "data": {
      "text/html": [
       "<div>\n",
       "<style scoped>\n",
       "    .dataframe tbody tr th:only-of-type {\n",
       "        vertical-align: middle;\n",
       "    }\n",
       "\n",
       "    .dataframe tbody tr th {\n",
       "        vertical-align: top;\n",
       "    }\n",
       "\n",
       "    .dataframe thead th {\n",
       "        text-align: right;\n",
       "    }\n",
       "</style>\n",
       "<table border=\"1\" class=\"dataframe\">\n",
       "  <thead>\n",
       "    <tr style=\"text-align: right;\">\n",
       "      <th></th>\n",
       "      <th>symboling</th>\n",
       "      <th>curbweight</th>\n",
       "      <th>horsepower</th>\n",
       "      <th>compressionratio</th>\n",
       "      <th>citympg</th>\n",
       "      <th>price</th>\n",
       "      <th>fueltype_gas</th>\n",
       "      <th>carbody_hardtop</th>\n",
       "      <th>carbody_hatchback</th>\n",
       "      <th>carbody_sedan</th>\n",
       "      <th>carbody_wagon</th>\n",
       "      <th>drivewheel_fwd</th>\n",
       "      <th>drivewheel_rwd</th>\n",
       "    </tr>\n",
       "  </thead>\n",
       "  <tbody>\n",
       "    <tr>\n",
       "      <th>0</th>\n",
       "      <td>3</td>\n",
       "      <td>2548</td>\n",
       "      <td>111</td>\n",
       "      <td>9.0</td>\n",
       "      <td>21</td>\n",
       "      <td>13495.0</td>\n",
       "      <td>True</td>\n",
       "      <td>False</td>\n",
       "      <td>False</td>\n",
       "      <td>False</td>\n",
       "      <td>False</td>\n",
       "      <td>False</td>\n",
       "      <td>True</td>\n",
       "    </tr>\n",
       "    <tr>\n",
       "      <th>1</th>\n",
       "      <td>3</td>\n",
       "      <td>2548</td>\n",
       "      <td>111</td>\n",
       "      <td>9.0</td>\n",
       "      <td>21</td>\n",
       "      <td>16500.0</td>\n",
       "      <td>True</td>\n",
       "      <td>False</td>\n",
       "      <td>False</td>\n",
       "      <td>False</td>\n",
       "      <td>False</td>\n",
       "      <td>False</td>\n",
       "      <td>True</td>\n",
       "    </tr>\n",
       "    <tr>\n",
       "      <th>2</th>\n",
       "      <td>1</td>\n",
       "      <td>2823</td>\n",
       "      <td>154</td>\n",
       "      <td>9.0</td>\n",
       "      <td>19</td>\n",
       "      <td>16500.0</td>\n",
       "      <td>True</td>\n",
       "      <td>False</td>\n",
       "      <td>True</td>\n",
       "      <td>False</td>\n",
       "      <td>False</td>\n",
       "      <td>False</td>\n",
       "      <td>True</td>\n",
       "    </tr>\n",
       "    <tr>\n",
       "      <th>3</th>\n",
       "      <td>2</td>\n",
       "      <td>2337</td>\n",
       "      <td>102</td>\n",
       "      <td>10.0</td>\n",
       "      <td>24</td>\n",
       "      <td>13950.0</td>\n",
       "      <td>True</td>\n",
       "      <td>False</td>\n",
       "      <td>False</td>\n",
       "      <td>True</td>\n",
       "      <td>False</td>\n",
       "      <td>True</td>\n",
       "      <td>False</td>\n",
       "    </tr>\n",
       "    <tr>\n",
       "      <th>4</th>\n",
       "      <td>2</td>\n",
       "      <td>2824</td>\n",
       "      <td>115</td>\n",
       "      <td>8.0</td>\n",
       "      <td>18</td>\n",
       "      <td>17450.0</td>\n",
       "      <td>True</td>\n",
       "      <td>False</td>\n",
       "      <td>False</td>\n",
       "      <td>True</td>\n",
       "      <td>False</td>\n",
       "      <td>False</td>\n",
       "      <td>False</td>\n",
       "    </tr>\n",
       "  </tbody>\n",
       "</table>\n",
       "</div>"
      ],
      "text/plain": [
       "   symboling  curbweight  horsepower  compressionratio  citympg    price  \\\n",
       "0          3        2548         111               9.0       21  13495.0   \n",
       "1          3        2548         111               9.0       21  16500.0   \n",
       "2          1        2823         154               9.0       19  16500.0   \n",
       "3          2        2337         102              10.0       24  13950.0   \n",
       "4          2        2824         115               8.0       18  17450.0   \n",
       "\n",
       "   fueltype_gas  carbody_hardtop  carbody_hatchback  carbody_sedan  \\\n",
       "0          True            False              False          False   \n",
       "1          True            False              False          False   \n",
       "2          True            False               True          False   \n",
       "3          True            False              False           True   \n",
       "4          True            False              False           True   \n",
       "\n",
       "   carbody_wagon  drivewheel_fwd  drivewheel_rwd  \n",
       "0          False           False            True  \n",
       "1          False           False            True  \n",
       "2          False           False            True  \n",
       "3          False            True           False  \n",
       "4          False           False           False  "
      ]
     },
     "execution_count": 6,
     "metadata": {},
     "output_type": "execute_result"
    }
   ],
   "source": [
    "df = pd.read_csv('../data/raw/CarPrice_Assignment.csv')\n",
    "df = df[['symboling', 'curbweight', 'horsepower', 'compressionratio', 'citympg', 'fueltype', 'carbody', 'drivewheel', 'price']]\n",
    "df = pd.get_dummies(df, drop_first=True)\n",
    "print(df.shape)\n",
    "df.head()"
   ]
  },
  {
   "cell_type": "code",
   "execution_count": null,
   "id": "91a5e058",
   "metadata": {
    "vscode": {
     "languageId": "coffeescript"
    }
   },
   "outputs": [],
   "source": [
    "#Outlier handle (log)\n",
    "df_original = df.copy()\n",
    "df['price'] = np.log1p(df['price'])\n",
    "\n",
    "# Scale\n",
    "scaler = StandardScaler()\n",
    "num_cols = ['symboling', 'curbweight', 'horsepower', 'compressionratio', 'citympg']\n",
    "df[num_cols] = scaler.fit_transform(df[num_cols])"
   ]
  },
  {
   "cell_type": "code",
   "execution_count": 19,
   "id": "47bea7ea",
   "metadata": {},
   "outputs": [
    {
     "name": "stdout",
     "output_type": "stream",
     "text": [
      "Shape after selection and encoding: (205, 13)\n",
      "   symboling  curbweight  horsepower  compressionratio  citympg    price  \\\n",
      "0          3        2548         111               9.0       21  13495.0   \n",
      "1          3        2548         111               9.0       21  16500.0   \n",
      "2          1        2823         154               9.0       19  16500.0   \n",
      "3          2        2337         102              10.0       24  13950.0   \n",
      "4          2        2824         115               8.0       18  17450.0   \n",
      "\n",
      "   fueltype_gas  carbody_hardtop  carbody_hatchback  carbody_sedan  \\\n",
      "0          True            False              False          False   \n",
      "1          True            False              False          False   \n",
      "2          True            False               True          False   \n",
      "3          True            False              False           True   \n",
      "4          True            False              False           True   \n",
      "\n",
      "   carbody_wagon  drivewheel_fwd  drivewheel_rwd  \n",
      "0          False           False            True  \n",
      "1          False           False            True  \n",
      "2          False           False            True  \n",
      "3          False            True           False  \n",
      "4          False           False           False  \n"
     ]
    },
    {
     "data": {
      "image/png": "[encoded data removed]",
      "text/plain": [
       "<Figure size 1200x400 with 2 Axes>"
      ]
     },
     "metadata": {},
     "output_type": "display_data"
    },
    {
     "name": "stdout",
     "output_type": "stream",
     "text": [
      "Before mean: 13276.710570731706\n",
      "After mean: 9.354775918945913\n",
      "Equal check: False\n"
     ]
    }
   ],
   "source": [
    "# === Imports ===\n",
    "import pandas as pd\n",
    "import numpy as np\n",
    "import matplotlib.pyplot as plt\n",
    "import seaborn as sns\n",
    "from sklearn.preprocessing import StandardScaler\n",
    "\n",
    "# Set style\n",
    "sns.set_style('whitegrid')\n",
    "plt.rcParams['figure.figsize'] = (10, 6)\n",
    "\n",
    "# === Load and Select Features ===\n",
    "df = pd.read_csv('../data/raw/CarPrice_Assignment.csv')\n",
    "df = df[['symboling', 'curbweight', 'horsepower', 'compressionratio', 'citympg', 'fueltype', 'carbody', 'drivewheel', 'price']]\n",
    "df = pd.get_dummies(df, drop_first=True)\n",
    "print(\"Shape after selection and encoding:\", df.shape)\n",
    "print(df.head())\n",
    "\n",
    "# === Outlier Handling and Scaling ===\n",
    "# 1. Copy before log\n",
    "df_original = df.copy()\n",
    "\n",
    "# 2. Log transform price\n",
    "df['price'] = np.log1p(df['price'])\n",
    "\n",
    "# 3. Scale numerical features\n",
    "scaler = StandardScaler()\n",
    "num_cols = ['symboling', 'curbweight', 'horsepower', 'compressionratio', 'citympg']\n",
    "df[num_cols] = scaler.fit_transform(df[num_cols])\n",
    "\n",
    "# === Visualize ===\n",
    "fig, axes = plt.subplots(1, 2, figsize=(12,4))\n",
    "\n",
    "# Before\n",
    "sns.histplot(df_original['price'], bins=30, ax=axes[0], kde=True, color='tomato')\n",
    "axes[0].set_title('Price (Before Log Transform)')\n",
    "\n",
    "# After\n",
    "sns.histplot(df['price'], bins=30, ax=axes[1], kde=True, color='seagreen')\n",
    "axes[1].set_title('Price (After Log Transform)')\n",
    "\n",
    "plt.tight_layout()\n",
    "plt.show()\n",
    "\n",
    "# === Check ===\n",
    "print(\"Before mean:\", df_original['price'].mean())\n",
    "print(\"After mean:\", df['price'].mean())\n",
    "print(\"Equal check:\", df['price'].equals(df_original['price']))"
   ]
  },
  {
   "cell_type": "code",
   "execution_count": 20,
   "id": "badca0fe",
   "metadata": {},
   "outputs": [
    {
     "name": "stdout",
     "output_type": "stream",
     "text": [
      "✅ Processed data saved to data/processed/feature_engineered.csv\n"
     ]
    }
   ],
   "source": [
    "df.to_csv('../data/processed/feature_engineered.csv', index=False)\n",
    "print(\"✅ Processed data saved to data/processed/feature_engineered.csv\")"
   ]
  }
 ],
 "metadata": {
  "kernelspec": {
   "display_name": "Python 3",
   "language": "python",
   "name": "python3"
  },
  "language_info": {
   "codemirror_mode": {
    "name": "ipython",
    "version": 3
   },
   "file_extension": ".py",
   "mimetype": "text/x-python",
   "name": "python",
   "nbconvert_exporter": "python",
   "pygments_lexer": "ipython3",
   "version": "3.13.7"
  }
 },
 "nbformat": 4,
 "nbformat_minor": 5
}
